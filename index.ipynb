{
 "cells": [
  {
   "cell_type": "markdown",
   "metadata": {},
   "source": [
    "---\n",
    "title: Project thesis\n",
    "author:\n",
    "  - name: Radin Rahimi\n",
    "    orcid: 0000-0002-0760-5497\n",
    "    corresponding: true\n",
    "    email: radin.rahimi@fau.de\n",
    "    roles:\n",
    "      - Investigation\n",
    "      - Project administration\n",
    "      - Software\n",
    "      - Visualization\n",
    "    affiliations:\n",
    "      - Curvenote\n",
    "  - name: Philipp Pelz\n",
    "    orcid: 0000-0002-7859-8394\n",
    "    corresponding: false\n",
    "    email: philipp.pelz@fau.de\n",
    "    roles: []\n",
    "    affiliations:\n",
    "      - Curvenote\n",
    "keywords:\n",
    "  - Strain Mapping \n",
    "  - py4DSTEM\n",
    "abstract: |\n",
    "  \n",
    "\n",
    "\n",
    "date: last-modified\n",
    "bibliography: My Library.bib\n",
    "\n",
    "number-sections: true\n",
    "---"
   ]
  },
  {
   "cell_type": "markdown",
   "metadata": {
    "tags": []
   },
   "source": [
    "## Introduction\n"
   ]
  },
  {
   "cell_type": "markdown",
   "metadata": {},
   "source": "In semiconductor devices to estimate intended and unintended strain distributions it is vitally important to use Measurtement of strain with high spatial resolution and high preciscion [@zeltmann_patterned_2020]. It is also neccesary have combination of high resolution with large field of view."
  },
  {
   "cell_type": "markdown",
   "metadata": {},
   "source": "X-rays techniques are able measure strain with points that it is important, high resolution, high precision(≈10^(-5)[@darbal_automated_2013] [@robinson_coherent_2009])and large field of view, but they do not keep the need of high spatial resolution(≈500nm[@darbal_automated_2013]). Which makes them inappropriate for analyzing the next generation of nanoscale materials and devices [@darbal_automated_2013] [@robinson_coherent_2009]."
  },
  {
   "cell_type": "markdown",
   "metadata": {},
   "source": "Quantitive structure retrieval using computer-controlled high resolution electron microscopy(HREM)images is much less frequent rather than X-ray diffraction patterns, despite its potential for applications including interfaces and dislocations in area like high localized crystal defect structures [@mobus_iterative_1998] . These methods is  dictated the local intensity in micrograph by the position of atomic columns [@du_accuracy_2006] . Using images instead of diffraction offers high spatial resolution, but the field of view is limited [@mahr_theoretical_2015] . The shape of the measured lattice strain profiles can indicate artifacts depending on the selected imaging conditions. These artifacts arise from continuous contrast variations extending across several monolayers from the interface positions, caused by local crystal tilts in elastically relaxed specimens. Despite this, the average strain in thicker layers can be measured with adequate accuracy, providing a rough estimate of layer compositions when analyzing experimental micrographs  [@tillmann_impact_2000] ."
  },
  {
   "cell_type": "markdown",
   "metadata": {},
   "source": "On the other hand, strain can be measured using TEM techniques based on diffraction. This paper discusses six different TEM techniques which provide the best spatial resolution (below 5 nm[@zeltmann_patterned_2020]) and quantitative strain measurements in the TEM [@darbal_automated_2013] [@robinson_coherent_2009]. NBED, CBED, HRTEM, DFEH, HRSTEM, HOLZ.."
  },
  {
   "metadata": {},
   "cell_type": "markdown",
   "source": ""
  },
  {
   "cell_type": "markdown",
   "metadata": {},
   "source": "## Methods {#sec-methods}"
  },
  {
   "metadata": {},
   "cell_type": "markdown",
   "source": "### NBED"
  },
  {
   "cell_type": "markdown",
   "metadata": {},
   "source": [
    "## Conclusion"
   ]
  },
  {
   "cell_type": "markdown",
   "metadata": {},
   "source": [
    "## References {.unnumbered}\n",
    "\n",
    ":::{#refs}\n",
    "\n",
    ":::"
   ]
  }
 ],
 "metadata": {
  "kernelspec": {
   "display_name": "Python 3 (ipykernel)",
   "language": "python",
   "name": "python3"
  },
  "language_info": {
   "codemirror_mode": {
    "name": "ipython",
    "version": 3
   },
   "file_extension": ".py",
   "mimetype": "text/x-python",
   "name": "python",
   "nbconvert_exporter": "python",
   "pygments_lexer": "ipython3",
   "version": "3.11.4"
  }
 },
 "nbformat": 4,
 "nbformat_minor": 4
}
