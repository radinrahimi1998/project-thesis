{
 "cells": [
  {
   "cell_type": "markdown",
   "metadata": {},
   "source": [
    "---\n",
    "title: Project thesis\n",
    "author:\n",
    "  - name: Radin Rahimi\n",
    "    orcid: 0009-0005-8296-8174\n",
    "    corresponding: true\n",
    "    email: radin.rahimi@fau.de\n",
    "    roles:\n",
    "      - Investigation\n",
    "      - Project administration\n",
    "      - Software\n",
    "      - Visualization\n",
    "    affiliations:\n",
    "      - Curvenote\n",
    "  - name: Philipp Pelz\n",
    "    orcid: 0000-0002-8009-4515\n",
    "    corresponding: false\n",
    "    email: philipp.pelz@fau.de\n",
    "    roles: [Supervisor]\n",
    "    affiliations:\n",
    "      - Curvenote\n",
    "keywords:\n",
    "  - Strain Mapping \n",
    "  - py4DSTEM\n",
    "abstract: |\n",
    "  \n",
    "\n",
    "\n",
    "date: last-modified\n",
    "bibliography: My Library.bib\n",
    "figures: images.png\n",
    "\n",
    "number-sections: true\n",
    "---"
   ]
  },
  {
   "metadata": {
    "ExecuteTime": {
     "end_time": "2024-12-08T21:05:23.148546Z",
     "start_time": "2024-12-08T21:05:22.934885Z"
    }
   },
   "cell_type": "code",
   "source": "from sympy import symbols",
   "outputs": [],
   "execution_count": 1
  },
  {
   "cell_type": "markdown",
   "metadata": {
    "tags": []
   },
   "source": [
    "## Introduction\n"
   ]
  },
  {
   "cell_type": "markdown",
   "metadata": {},
   "source": "In semiconductor devices to estimate intended and unintended strain distributions it is vitally important to use Measurtement of strain with high spatial resolution and high preciscion [@zeltmann_patterned_2020]. It is also neccesary have combination of high resolution with large field of view."
  },
  {
   "cell_type": "markdown",
   "metadata": {},
   "source": "X-rays techniques are able measure strain with points that it is important, high resolution, high precision(≈10^(-5)[@darbal_automated_2013] [@robinson_coherent_2009])and large field of view, but they do not keep the need of high spatial resolution(≈500nm[@darbal_automated_2013]). Which makes them inappropriate for analyzing the next generation of nanoscale materials and devices [@darbal_automated_2013] [@robinson_coherent_2009]. "
  },
  {
   "cell_type": "markdown",
   "metadata": {},
   "source": "Quantitive structure retrieval using computer-controlled high resolution electron microscopy(HREM)images is much less frequent rather than X-ray diffraction patterns, despite its potential for applications including interfaces and dislocations in area like high localized crystal defect structures [@mobus_iterative_1998] . These methods is  dictated the local intensity in micrograph by the position of atomic columns [@du_accuracy_2006] . Using images instead of diffraction offers high spatial resolution, but the field of view is limited [@mahr_theoretical_2015] . The shape of the measured lattice strain profiles can indicate artifacts depending on the selected imaging conditions. These artifacts arise from continuous contrast variations extending across several monolayers from the interface positions, caused by local crystal tilts in elastically relaxed specimens. Despite this, the average strain in thicker layers can be measured with adequate accuracy, providing a rough estimate of layer compositions when analyzing experimental micrographs  [@tillmann_impact_2000] ."
  },
  {
   "cell_type": "markdown",
   "metadata": {},
   "source": "On the other hand, strain can be measured using TEM techniques based on diffraction. This paper discusses six different TEM techniques which provide the best spatial resolution (below 5 nm[@zeltmann_patterned_2020]) and quantitative strain measurements in the TEM [@darbal_automated_2013] [@robinson_coherent_2009]. NBED, CBED, HRTEM, DFEH, HRSTEM, HOLZ."
  },
  {
   "metadata": {},
   "cell_type": "markdown",
   "source": ""
  },
  {
   "cell_type": "markdown",
   "metadata": {},
   "source": [
    "## Methods {#sec-methods}\n",
    "\n",
    "### Strain Measurement and Mapping\n",
    "Different properties in materials, such as electronic, mechanical, and chemical properties, are related to structural deformation. The relationship between structure and material properties can be determined by measuring the strain that probes the structural deformation[@Wang_Eldred_Smith_Gao_2022]. "
   ]
  },
  {
   "metadata": {},
   "cell_type": "markdown",
   "source": [
    "### NBED\n",
    "One method for measuring strain is the nano-beam electron diffraction (NBED) technique. This method uses a quasi-parallel electron beam with a diameter of less than 20 nm at full width at half maximum (FWHM) and a convergence semi-angle of less than 1 mrad. By analyzing shifts in the positions of the diffraction spots within the patterns, variations in the lattice parameters of the sample—and consequently the strain—can be determined [@beche_strain_2013]. This advance, that by using NBED it is possible to measure strain, has been made possible through the development of high-speed direct electron detectors, capable of capturing hundreds of thousands of diffraction patterns, which can then be analyzed to extract a wealth of detailed information. [@pekin_situ_2018]. Strain measurements obtained through NBED experiments are generally easier to analyze because the local strain precision does not rely on directly determining the position of atomic columns. As a result, the field of view is basically unlimited, allowing for the use of nearly any sample and orientation[@ophus_four-dimensional_2019].\n",
    "$$\n",
    "d= 0.51\\frac{\\lambda}{\\alpha}\n",
    "$${#eq-NBED}\n",
    "There is a relationship between the probe's FWHM (d) and the convergence angle ($\\alpha$) via the wavelength of the incident electron beam ($\\lambda$), called the Rayleigh criterion @eq-NBED. One of the goal of NBED is to identify the optimal parameters for d and α that enable the creation of small probe for high spatial resolution to minimize the influence of dynamical diffraction[@beche_strain_2013]. @fig-NBED Schematic of an NBED strain measurement, highlighting the inverse relationship between interatomic distance and diffraction disk spacing [@ophus_four-dimensional_2019]. \n",
    " \n",
    "![Schematic of NBED strain measurement](images/NBED1.png){#fig-NBED}\n",
    "\n",
    "An article @cooper_strain_2024 presents @fig-NBED-2, which depicts a near-parallel electron beam directed at a {110} silicon specimen. The beam's full width at half maximum (FWHM) measures approximately 6 nm. In nano-beam electron diffraction (NBED), this parallel beam is scanned over the target region, capturing diffraction patterns. These patterns are then analyzed to calculate strain by determining the shifts in the diffracted spots. The analysis utilizes specialized automated software developed internally at CEA.\n",
    "\n",
    "![NBED Schematic. (a) TEM speciemen near parallel electron probe on a {110} Si (b) showing FWHM (c)&(d) diffraction pattern is recorded at eache point from which the strain can be determined in STEM mode and using software developed at CEA for peak fitting. [@cooper_strain_2024]](images/NBED2.png){#fig-NBED-2}\n",
    "\n",
    "\n",
    "\n",
    "#### Measuring Lattice Vectors from Nanobeam Electron Diffraction Patterns\n",
    "\n",
    "Strain measurement using the locations of diffracted peaks is a well-established application of Bragg's law and has been successfully implemented through various experimental techniques.Accurate data collection is the first and most important phase in the Nanobeam Electron Diffraction(NBED) process. The sample must be placed near enough to the zone axis to enable illumination of several diffraction disks, although it need not be perfectly aligned.As shown schematically in  @fig-NBED3, a full diffraction pattern is recorded for every pixel in the reconstructed strain image. The locations of the diffraction disks are taken from these patterns and saved as subpixel-accurate coordinates in reciprocal space. Following the recording of every disk position, the local lattice vectors are computed using this data at every probe position by solving the system of linear  @eq-linear where B represents the reciprocal lattice matrix, L denotes the local lattice vectors, and  P corresponds to the measured disk positions..[@Pekin_Gammer_Ciston_Minor_Ophus_2017].\n",
    "\n",
    "$$ B=L \\cdot P $${#eq-linear}\n",
    "\n",
    "![Experimental model showing a single nanobeam electron diffraction (NBED) observation. An imagine with particular peaks at each disk position is created by correlating the measured diffraction pattern with a central disk template [@Pekin_Gammer_Ciston_Minor_Ophus_2017].](images/NBED3.png){#fig-NBED3}\n",
    "\n",
    "\n",
    "By defining $L$ and $L_0$ as the local lattice vector and the reference lattice vector, respectively, and $T$ as the transformation matrix, the strain matrix can be determined if infinitesimal strain theory is assumed [@Pekin_Gammer_Ciston_Minor_Ophus_2017]. This theory describes deformation under the assumption that displacements are much smaller than any relevant dimension of the body, ensuring that the geometry and constitutive properties of the material at each point remain unchanged [@Zhang_2019], as outlined in @eq-matrix.\n",
    "$$\n",
    "\\begin{bmatrix}\n",
    "\\varepsilon_{xx} & \\frac{1}{2} (\\varepsilon_{xy} - \\theta) \\\\\n",
    "\\frac{1}{2} (\\varepsilon_{yx} + \\theta) & \\varepsilon_{yy}\n",
    "\\end{bmatrix}\n",
    "= T -\n",
    "\\begin{bmatrix}\n",
    "1 & 0 \\\\\n",
    "0 & 1\n",
    "\\end{bmatrix}\n",
    "$${#eq-matrix}\n",
    "\n",
    "\n",
    "\n",
    "\n",
    "\n",
    "\n"
   ]
  },
  {
   "metadata": {},
   "cell_type": "markdown",
   "source": ""
  },
  {
   "cell_type": "markdown",
   "metadata": {},
   "source": [
    "## Conclusion"
   ]
  },
  {
   "cell_type": "markdown",
   "metadata": {},
   "source": [
    "## References {.unnumbered}\n",
    "\n",
    ":::{#refs}\n",
    "\n",
    ":::"
   ]
  },
  {
   "metadata": {
    "ExecuteTime": {
     "end_time": "2024-12-07T14:09:52.038155Z",
     "start_time": "2024-12-07T14:09:52.036285Z"
    }
   },
   "cell_type": "code",
   "source": "",
   "outputs": [],
   "execution_count": null
  },
  {
   "metadata": {
    "ExecuteTime": {
     "end_time": "2024-12-07T14:09:52.486018Z",
     "start_time": "2024-12-07T14:09:52.483868Z"
    }
   },
   "cell_type": "code",
   "source": "",
   "outputs": [],
   "execution_count": null
  },
  {
   "metadata": {},
   "cell_type": "code",
   "outputs": [],
   "execution_count": null,
   "source": ""
  }
 ],
 "metadata": {
  "kernelspec": {
   "display_name": "Python 3 (ipykernel)",
   "language": "python",
   "name": "python3"
  },
  "language_info": {
   "codemirror_mode": {
    "name": "ipython",
    "version": 3
   },
   "file_extension": ".py",
   "mimetype": "text/x-python",
   "name": "python",
   "nbconvert_exporter": "python",
   "pygments_lexer": "ipython3",
   "version": "3.11.4"
  }
 },
 "nbformat": 4,
 "nbformat_minor": 4
}
