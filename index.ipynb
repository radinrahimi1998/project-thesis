{
 "cells": [
  {
   "cell_type": "markdown",
   "metadata": {},
   "source": [
    "---\n",
    "title: Project thesis\n",
    "author:\n",
    "  - name: Radin Rahimi\n",
    "    orcid: 0009-0005-8296-8174\n",
    "    corresponding: true\n",
    "    email: radin.rahimi@fau.de\n",
    "    roles:\n",
    "      - Investigation\n",
    "      - Project administration\n",
    "      - Software\n",
    "      - Visualization\n",
    "    affiliations:\n",
    "      - Curvenote\n",
    "  - name: Philipp Pelz\n",
    "    orcid: 0000-0002-8009-4515\n",
    "    corresponding: false\n",
    "    email: philipp.pelz@fau.de\n",
    "    roles: [Supervisor]\n",
    "    affiliations:\n",
    "      - Curvenote\n",
    "keywords:\n",
    "  - Strain Mapping \n",
    "  - py4DSTEM\n",
    "abstract: |\n",
    "  \n",
    "\n",
    "\n",
    "date: last-modified\n",
    "bibliography: My Library.bib\n",
    "figures: images.png\n",
    "\n",
    "number-sections: true\n",
    "---"
   ]
  },
  {
   "metadata": {
    "ExecuteTime": {
     "end_time": "2024-12-10T19:33:20.165529Z",
     "start_time": "2024-12-10T19:33:19.944871Z"
    }
   },
   "cell_type": "code",
   "source": "from sympy import symbols",
   "outputs": [],
   "execution_count": 1
  },
  {
   "cell_type": "markdown",
   "metadata": {
    "tags": []
   },
   "source": [
    "## Introduction\n"
   ]
  },
  {
   "cell_type": "markdown",
   "metadata": {},
   "source": "Different properties in materials, such as electronic, mechanical, and chemical properties, are related to structural deformation [@Wang_Eldred_Smith_Gao_2022]. In semiconductor devices to estimate intended and unintended strain distributions it is vitally important to use Measurtement of strain with high spatial resolution and high preciscion [@zeltmann_patterned_2020]. It is also neccesary have combination of high resolution with large field of view."
  },
  {
   "cell_type": "markdown",
   "metadata": {},
   "source": [
    "X-rays techniques are able measure strain with points that it is important, high resolution, high precision(≈ $10^{-5}$\n",
    "[@darbal_automated_2013] [@robinson_coherent_2009])and large field of view, but they do not keep the need of high spatial resolution(≈500 nm[@darbal_automated_2013]). Which makes them inappropriate for analyzing the next generation of nanoscale materials and devices [@darbal_automated_2013] [@robinson_coherent_2009]."
   ]
  },
  {
   "cell_type": "markdown",
   "metadata": {},
   "source": "Quantitive structure retrieval using computer-controlled high resolution electron microscopy(HREM)images is much less frequent rather than X-ray diffraction patterns, despite its potential for applications including interfaces and dislocations in area like high localized crystal defect structures [@mobus_iterative_1998] . These methods is  dictated the local intensity in micrograph by the position of atomic columns [@du_accuracy_2006] . Using images instead of diffraction offers high spatial resolution, but the field of view is limited [@mahr_theoretical_2015] . The shape of the measured lattice strain profiles can indicate artifacts depending on the selected imaging conditions. These artifacts arise from continuous contrast variations extending across several monolayers from the interface positions, caused by local crystal tilts in elastically relaxed specimens. Despite this, the average strain in thicker layers can be measured with adequate accuracy, providing a rough estimate of layer compositions when analyzing experimental micrographs  [@tillmann_impact_2000] ."
  },
  {
   "cell_type": "markdown",
   "metadata": {},
   "source": [
    "On the other hand, strain can be measured using TEM techniques based on diffraction. This paper discusses six different TEM techniques which provide the best spatial resolution (below 5 nm[@zeltmann_patterned_2020]) and quantitative strain measurements in the TEM [@darbal_automated_2013] [@robinson_coherent_2009]. NBED, CBED, HRTEM, DFEH, HRSTEM, HOLZ.The transmission electron microscopy (TEM) strain measurement techniques exhibit diverse characteristics in precision, spatial resolution, and field of view, as summarized in @tbl-tem-techniques [@hytch_observing_2014 ][@beche_strain_2013]. Additionally, in situ mechanical testing techniques can measure not only applied strains but also local strains [@hytch_observing_2014] .\n",
    "\n",
    "\n",
    "| Mode | Type | Precision | Spatial Resolution | Field of View  | Data Volume 2k x 2k 16bit CCD |\n",
    "|--------------|--------------|-----------|-----------|-----------|-----------|\n",
    "| CBED | Probe | 2 × 10⁻⁴ | 0.5–2 nm | Unlimited      | 1.6GB/ series (100images) |\n",
    "| NBED | Probe | 10⁻³ | 5–10 nm | Unlimited      | 1.6GB/ series (100images) |\n",
    "| HRTEM | Image   | 10⁻³ | 1–2 nm | 100 × 100 $nm^2$ | 16 MB/ image   |\n",
    "| HRSTEM | Image   | 10⁻³ | 1–2 nm | >400 × 400 $nm^2$ | 16 MB/ image   |\n",
    "| DFEH | Image  | 2 × 10⁻⁴ | 2–4 nm | 1500 × 500 $nm^2$ | 16 MB/ image   |\n",
    ":comparing different techniques for strain measurement with transmission electron microscopy {#tbl-tem-techniques}"
   ]
  },
  {
   "metadata": {},
   "cell_type": "markdown",
   "source": ""
  },
  {
   "cell_type": "markdown",
   "metadata": {},
   "source": [
    "## Overview {#sec-methods}\n",
    "\n",
    "### Strain Measurement and Mapping\n",
    " The relationship between structure and material properties can be determined by measuring the strain that probes the structural deformation[@Wang_Eldred_Smith_Gao_2022].For mesearing strain there is two techniques, Peak Finding Analysis (PF) and Geometric Phase Analysis (GPA)[@Cherkashin_Louiset_Chmielewski_Kim_Dubourdieu_Schamm-Chardon_2023]. Peak-finding techniques offer some advantages, requiring less memory and CPU resources by avoiding complex bidimensional Fourier transforms, except when noise reduction is performed in Fourier space. On the other hand, the Geometric Phase method excels in strain mapping within regions containing structural defects, particularly around dislocations, providing detailed insights into local material deformation [@Galindo_Kret_Sanchez_Laval_Yáñez_Pizarro_Guerrero_Ben_Molina_2007].\n",
    "\n",
    "#### Geometric Phase Analysis(GPA)\n",
    "The Geometric Phase (GP) methodology is a sophisticated technique for analyzing material deformation through Fourier space processing of high-resolution transmission electron microscopy (HRTEM) lattice images. The method involves filtering images around specific Bragg spots in the Fourier transform, performing an inverse Fourier transform, and extracting phase information about local atomic displacements. By deriving displacement data from non-collinear Fourier components, researchers can precisely calculate strain field components and characterize symmetric and rotational distortions in crystalline materials with exceptional accuracy[@Galindo_Kret_Sanchez_Laval_Yáñez_Pizarro_Guerrero_Ben_Molina_2007].This method provides insights into local strain distributions through careful phase comparisons and mathematical transformations[@strainpp_theory].\n",
    "\n",
    "Fundamental Equations\n",
    "Image Formation Model\n",
    "The image intensity is modeled as a Fourier series representing the periodic structures in the material:\n",
    "\n",
    "$$I(r) = \\sum_{g} A_{g} e^{i(P_{g} + 2\\pi i g \\cdot r)}$${#eq-theory1}\n",
    "Where:\n",
    "\n",
    "$I$ is the image intensity\n",
    "$r$ represents the position in the image\n",
    "$g$ denotes periodicities in the image (reciprocal space coordinates)\n",
    "$A_{g}$ is the amplitude of the periodicity\n",
    "$P_{g}$ is the phase of the periodicity\n",
    "\n",
    "Phase Extraction\n",
    "The phase difference is calculated by:\n",
    "$$P_{g}(r) = \\text{Phase}\\left[H_{g'}(r)\\right] - 2\\pi g \\cdot r$${#eq-theory2}\n",
    "This method allows for precise extraction of specific Fourier components by masking the Fast Fourier Transform (FFT).\n",
    "G-vector Refinement\n",
    "The g-vector can be refined by analyzing the phase gradient:\n",
    "$$\\Delta g = \\frac{1}{2\\pi} \\nabla P_{g}$${#eq-theory3}\n",
    "Displacement Field Calculation\n",
    "The displacement field is derived from phase measurements of two non-colinear g-vectors:\n",
    "$$\\begin{pmatrix} u_{x} \\ u_{y} \\end{pmatrix} = -\\frac{1}{2\\pi} \\begin{pmatrix} a_{1x} & a_{2x} \\ a_{1y} & a_{2y} \\end{pmatrix} \\begin{pmatrix} P_{g_{1}} \\ P_{g_{2}} \\end{pmatrix}$${#eq-theory4}\n",
    "Strain and Deformation Tensor\n",
    "The distortion tensor is calculated by differentiating the displacement field:\n",
    "$$e = \\begin{pmatrix}\n",
    "\\frac{\\partial u_{x}}{\\partial x} & \\frac{\\partial u_{x}}{\\partial y} \\\n",
    "\\frac{\\partial u_{y}}{\\partial x} & \\frac{\\partial u_{y}}{\\partial y}\n",
    "\\end{pmatrix}$$\n",
    "From this tensor, key mechanical properties are derived:\n",
    "\n",
    "Strain: $\\varepsilon = \\frac{1}{2}(e + e^{T})$\n",
    "Rotation: $\\omega = \\frac{1}{2}(e - e^{T})$\n",
    "Dilation: $\\Delta = \\text{Trace}[e]$\n",
    "\n",
    "#### Peak Phase Analysis (PP)\n",
    "The peak finding approach based on real space algorithm [@Li_Zhao_Xing_Su_Cheng_2013].This method relies on finding the locations of intensity peaks that correspond to the atomic column positions[@hytch_observing_2014].\n",
    "\n",
    "#### Crystalline Strain Mapping\n",
    "It involves comparing the deformed and undeformed states of the crystal lattice. This can be done either by analyzing the real space lattice vectors or the reciprocal lattice vectors. The calculated strain tensor provides information about the stretching, compression, and shearing of the material.\n",
    "\n",
    "@Savitzky_Zeltmann_Hughes_Brown_Zhao_Pelz_Pekin_Barnard_Donohue_DaCosta_et_al._2021 shows equations of Crystalline Strain Mapping.\n",
    "\n",
    "Fundamental Approach:\n",
    "The strain analysis focuses on an infinitesimal strain matrix that captures subtle material deformations. Key components of this analysis include:\n",
    "\n",
    "Reference basis vectors: $$a_0 = (a_{01}, a_{02})$${#eq-csm1}\n",
    "Deformed lattice vectors: $$a = (a_1, a_2)$$ {#eq-csm1}\n",
    "\n",
    "Transformation and Strain Calculation:\n",
    "The linear deformation of space is described by a transformation matrix $T_{a_0 a}$, which relates reference and deformed lattice vectors through the equation:\n",
    "$$a = T_{a_0 a} a_0$${#eq-csm2}\n",
    "Under the assumption of small deformations, strain components are computed directly from the reciprocal lattice vectors' transformation matrix $T_{g_0 g}$:\n",
    "\n",
    "Longitudinal Strains:\n",
    "$$\\epsilon_{11} = 1 - T_{g_{11}}$$\n",
    "$$\\epsilon_{22} = 1 - T_{g_{22}}$${#eq-csm3}\n",
    "Shear Strain:\n",
    "$$\\epsilon_{12} = -\\frac{1}{2}(T_{g_{12}} + T_{g_{21}})$${#eq-csm4}\n",
    "Rotation:\n",
    "$$\\theta_R = \\frac{1}{2}(T_{g_{12}} - T_{g_{21}})$${#eq-csm5}\n",
    "\n",
    "Practical Implementation\n",
    "The strain mapping process involves:\n",
    "\n",
    "Performing an intensity-weighted fit to measured Bragg peak positions\n",
    "Calculating reciprocal lattice basis vectors $$g = (g_1, g_2)$$\n",
    "Determining reference vectors $$g_0 = (g_{01}, g_{02})$${#eq-csm6}\n",
    "Computing the transformation matrix and subsequent strain components\n",
    "\n",
    "This approach enables precise measurement of crystalline deformations at microscopic scales, providing critical insights into material behavior under stress and strain conditions.\n",
    "\n",
    "### Orientation Mapping\n",
    "Polycrystalline materials, which are composed of many small grains arranged randomly, have properties like mechanical strength, optical response and thermal conductivity that are influenced by the density and orientation of grain boundaries. therefor, orientation mapping of these grains is important to understand and optimizing their properties. One new approach to orientation mapping in TEM involves diffraction space measurements. Diffraction patterns contains Bragg spots that are inversely proportional to the atomic plane spacing, perpendicular to electron beam direction. Different techniques like NBED or four-dimensional STEM(4D-STEM) can be used to orientation mapping. To analyze 4D-STEM datasets, automated crystal orientation mapping (ACOM) is often used. This involves template matching diffraction patterns to identify grain orientations. ACOM has been widely adopted in materials science. The flexibility of ACOM has allowed its application in diverse experiments, including liquid cell measurements and scanning confocal electron diffraction. Additionally, ACOM is often paired with precession electron diffraction, where the STEM beam rotates around a cone to improve the clarity of diffraction patterns (@Ophus_Zeltmann_Bruefach_Rakowski_Savitzky_Minor_Scott_2022).\n",
    "\n",
    "\n",
    "\n",
    "\n",
    "\n",
    "\n",
    "\n",
    "\n",
    "\n",
    "\n",
    "\n",
    "\n",
    "\n",
    "\n"
   ]
  },
  {
   "metadata": {},
   "cell_type": "markdown",
   "source": [
    "## Methods\n",
    "### NBED\n",
    "One method for measuring strain is the nano-beam electron diffraction (NBED) technique. This method uses a quasi-parallel electron beam with a diameter of less than 20 nm at full width at half maximum (FWHM) and a convergence semi-angle of less than 1 mrad. By analyzing shifts in the positions of the diffraction spots within the patterns, variations in the lattice parameters of the sample—and consequently the strain—can be determined [@beche_strain_2013]. This advance, that by using NBED it is possible to measure strain, has been made possible through the development of high-speed direct electron detectors, capable of capturing hundreds of thousands of diffraction patterns, which can then be analyzed to extract a wealth of detailed information. [@pekin_situ_2018]. Strain measurements obtained through NBED experiments are generally easier to analyze because the local strain precision does not rely on directly determining the position of atomic columns. As a result, the field of view is basically unlimited, allowing for the use of nearly any sample and orientation[@ophus_four-dimensional_2019].\n",
    "$$\n",
    "d= 0.51\\frac{\\lambda}{\\alpha}\n",
    "$${#eq-NBED}\n",
    "There is a relationship between the probe's FWHM (d) and the convergence angle ($\\alpha$) via the wavelength of the incident electron beam ($\\lambda$), called the Rayleigh criterion @eq-NBED. One of the goal of NBED is to identify the optimal parameters for d and α that enable the creation of small probe for high spatial resolution to minimize the influence of dynamical diffraction[@beche_strain_2013]. @fig-NBED Schematic of an NBED strain measurement, highlighting the inverse relationship between interatomic distance and diffraction disk spacing [@ophus_four-dimensional_2019]. \n",
    " \n",
    "![Schematic of NBED strain measurement](images/NBED1.png){#fig-NBED}\n",
    "\n",
    "An article @cooper_strain_2024 presents @fig-NBED-2, which depicts a near-parallel electron beam directed at a {110} silicon specimen. The beam's full width at half maximum (FWHM) measures approximately 6 nm. In nano-beam electron diffraction (NBED), this parallel beam is scanned over the target region, capturing diffraction patterns. These patterns are then analyzed to calculate strain by determining the shifts in the diffracted spots. The analysis utilizes specialized automated software developed internally at CEA.\n",
    "\n",
    "![NBED Schematic. (a) TEM speciemen near parallel electron probe on a {110} Si (b) showing FWHM (c)&(d) diffraction pattern is recorded at eache point from which the strain can be determined in STEM mode and using software developed at CEA for peak fitting. [@cooper_strain_2024]](images/NBED2.png){#fig-NBED-2}\n",
    "\n",
    "\n",
    "\n",
    "#### Measuring Lattice Vectors from Nanobeam Electron Diffraction Patterns\n",
    "\n",
    "Strain measurement using the locations of diffracted peaks is a well-established application of Bragg's law and has been successfully implemented through various experimental techniques.Accurate data collection is the first and most important phase in the Nanobeam Electron Diffraction(NBED) process. The sample must be placed near enough to the zone axis to enable illumination of several diffraction disks, although it need not be perfectly aligned.As shown schematically in  @fig-NBED3, a full diffraction pattern is recorded for every pixel in the reconstructed strain image. The locations of the diffraction disks are taken from these patterns and saved as subpixel-accurate coordinates in reciprocal space. Following the recording of every disk position, the local lattice vectors are computed using this data at every probe position by solving the system of linear  @eq-linear where B represents the reciprocal lattice matrix, L denotes the local lattice vectors, and  P corresponds to the measured disk positions..[@Pekin_Gammer_Ciston_Minor_Ophus_2017].\n",
    "\n",
    "$$ B=L \\cdot P $${#eq-linear}\n",
    "\n",
    "![Experimental model showing a single nanobeam electron diffraction (NBED) observation. An imagine with particular peaks at each disk position is created by correlating the measured diffraction pattern with a central disk template [@Pekin_Gammer_Ciston_Minor_Ophus_2017].](images/NBED3.png){#fig-NBED3}\n",
    "\n",
    "\n",
    "By defining $L$ and $L_0$ as the local lattice vector and the reference lattice vector, respectively, and $T$ as the transformation matrix, the strain matrix can be determined if infinitesimal strain theory is assumed [@Pekin_Gammer_Ciston_Minor_Ophus_2017]. This theory describes deformation under the assumption that displacements are much smaller than any relevant dimension of the body, ensuring that the geometry and constitutive properties of the material at each point remain unchanged [@Zhang_2019], as outlined in @eq-matrix.\n",
    "$$\n",
    "\\begin{bmatrix}\n",
    "\\varepsilon_{xx} & \\frac{1}{2} (\\varepsilon_{xy} - \\theta) \\\\\n",
    "\\frac{1}{2} (\\varepsilon_{yx} + \\theta) & \\varepsilon_{yy}\n",
    "\\end{bmatrix}\n",
    "= T -\n",
    "\\begin{bmatrix}\n",
    "1 & 0 \\\\\n",
    "0 & 1\n",
    "\\end{bmatrix}\n",
    "$${#eq-matrix}\n",
    "\n",
    "\n",
    "\n",
    "### CBED\n",
    "\n",
    "One popular TEM method for measuring strain is Convergent Beam Electron Diffraction (CBED). Large diffraction disks are produced when the material is illuminated with a strongly convergent beam (semi-angle 5–20 mrad) with a probe size less than 2 nm, resulting in a CBED pattern. These disks have many characteristics for low-index zone axes that need to be simulated using dynamical theory. The transmitted disk shows sharp High Order Laue Zone (HOLZ) lines away from these axes. These lines' locations are extremely sensitive to lattice parameters, allowing for highly accurate strain measurements ($2^{-4}$).\n",
    "Hough transforms are used to determine the positions of sharp HOLZ lines, and then semi-kinematical computations are used to extract the lattice parameters. Analysis of expanded HOLZ lines, which are usually the result of defects or strain relaxation, requires trial-and-error modeling with coupled dynamical and finite element simulations or delicate fitting processes. Since all experimental profiles showed HOLZ line broadening, this method was employed in this investigation [@beche_strain_2013].\n",
    "\n",
    "Computer-assisted image analysis is crucial for quantitative assessment, improving precision and facilitating the automation of image processing activities. Orientation Imaging Microscopy (OIM) illustrates this automation by employing Kikuchi band detection in electron backscattering patterns to ascertain the orientations of individual grains. By automating this method, it becomes possible to evaluate thousands of patterns, resulting in detailed grain orientation maps. The Hough transform has been an essential instrument in these analyses, offering robust and noise-resistant automated band detection functionalities[@Krämer_Mayer_1999].\n",
    "\n",
    "First introduced by Paul Hough in 1962, the Hough transform was initially created for analyzing particle tracks in bubble chambers and represents one of the pioneering techniques for automating pattern recognition. In CBED patterns, there are fewer HOLZ lines to examine than Kikuchi bands in OIM, but the more distinct intensity distribution of HOLZ lines enables more accurate position determination. Nonetheless, current OIM software does not possess the precision needed for CBED analysis, which requires modifications to the Hough transform method to attain sub-pixel accuracy[@Krämer_Mayer_1999].\n",
    "\n",
    "### HRTEM and HRSTEM\n",
    "\n",
    "High resolution transmission electron microscopy(HRSTEM) is an imaging technique that determines the displacement of atomic columns from micrographs[@hytch_observing_2014]. The process of HRTEM involves reflecting a plane wave onto the region of interest (ROI), which interacts with the sample to generate interference patterns that include atomic positions data. HRSTEM requires scanning the material with a very small electron and obtaining the signal using high-angle annular dark field (HAADF)[].High-resolution techniques enable the acquisition of strain maps with excellent spatial resolution and minimal analysis. However, this high resolution often limits the field of view, particularly in High-Resolution Transmission Electron Microscopy (HRTEM) due to CCD size constraints. HRSTEM reduces this limitation as image size is primarily determined by the scanning area, which can be potentially expanded significantly. Acquiring a high-quality HRSTEM image with minimal noise and distortions within 1-2 minutes likely restricts the maximum scan size to approximately 400 nm x 400 nm (8k x 8k pixels) when using a pixel dwell time of 1-2 microseconds.In the example provided by @Fig-HRSTEM, [@beche_strain_2013] demonstrates strain mapping of a single-layer SiGe sample (a) and a multilayer SiGe sample (d). It is evident that the profile of the single-layer sample (c) does not fit well in the middle, while the multilayer sample (f) is more accurate.\n",
    "\n",
    "![](images/HRSTEM.png){#Fig-HRSTEM}\n",
    "\n",
    "\n",
    "\n",
    "\n",
    "\n",
    "\n",
    "\n",
    "\n",
    "\n",
    "### DFEH\n",
    "A relatively new method for measuring  strain is dark field electron holography(DFEH). The method involves interfering an electron beam passing through a reference region of the sample with another beam traversing the region of interest, using an electron biprism. Therefore, the reference area needs to be between 2 and 3 μm from the region of interest. A Lorentz lens can be used in place of the conventional objective lens to increase the field of view. Because of the increased interactions with the sample, operating at lower voltage (200kV)also causes an increase in the electrons' phase shift [@beche_strain_2013].Conventional electron holography (CEH), which analyzes phase alterations in transmitted electron waves brought on by the specimen's electromagnetic field, is different from diffraction-based electron holography (DFEH) @Fig-DFEH. DFEH is the only method that can measure the geometric phase shift, which is another phase shift caused by strain in a diffracted electron wave moving through a strained crystal. Although strain-related structures can be seen using geometric phase shifts in standard TEM techniques, the amount of the phase shift cannot be determined. By comparing a strained-region-traversing object wave with a strain-free reference wave, DFEH uses interferometry to precisely measure this geometric phase change. DFEH has been useful in strain mapping a variety of materials, such as ferroelectrics and semiconductors [@Murakami_Niitsu_Kaneko_Tanigaki_Sasaki_Akase_Shindo_Ohkubo_Hono_2016].\n",
    "\n",
    "\n",
    "![(a)Conventional Electron Holography (CEH): Shows interference between an electron wave going through a vacuum (reference wave) and a thin specimen (object wave). The central region in the diffraction pattern is impacted by both waves.(b) Dark-Field EH by using g reflection: Electron interference caused by Bragg reflection (e.g., 002 reflection). A reference wave from an unstrained zone is interfered with by an object wave moving across a strained region.(c) DFEH By using -g reflection: This illustrates a variant of DFEH that makes use of an alternative Bragg reflection [@Murakami_Niitsu_Kaneko_Tanigaki_Sasaki_Akase_Shindo_Ohkubo_Hono_2016].](images/DFEH.png){#fig-DFEH}\n",
    "\n",
    "\n",
    "\n",
    "### 4DSTEM\n",
    "\n",
    "### py4STEM\n",
    "\n",
    "\n",
    "\n",
    "\n",
    "\n",
    "\n",
    "\n",
    "\n",
    "\n",
    "\n",
    "\n",
    "\n",
    "\n",
    "\n",
    "\n",
    "\n",
    "\n"
   ]
  },
  {
   "metadata": {},
   "cell_type": "markdown",
   "source": ""
  },
  {
   "cell_type": "markdown",
   "metadata": {},
   "source": [
    "## Conclusion"
   ]
  },
  {
   "cell_type": "markdown",
   "metadata": {},
   "source": [
    "## References {.unnumbered}\n",
    "\n",
    ":::{#refs}\n",
    "\n",
    ":::"
   ]
  },
  {
   "metadata": {
    "ExecuteTime": {
     "end_time": "2024-12-10T19:32:20.577365Z",
     "start_time": "2024-12-10T19:32:20.575832Z"
    }
   },
   "cell_type": "code",
   "source": "",
   "outputs": [],
   "execution_count": null
  },
  {
   "metadata": {
    "ExecuteTime": {
     "end_time": "2024-12-08T21:07:25.050117Z",
     "start_time": "2024-12-08T21:07:25.046298Z"
    }
   },
   "cell_type": "code",
   "source": "",
   "outputs": [],
   "execution_count": null
  },
  {
   "metadata": {
    "ExecuteTime": {
     "end_time": "2024-12-08T21:07:25.540486Z",
     "start_time": "2024-12-08T21:07:25.538523Z"
    }
   },
   "cell_type": "code",
   "source": "",
   "outputs": [],
   "execution_count": null
  },
  {
   "metadata": {
    "ExecuteTime": {
     "end_time": "2024-12-08T21:07:25.930129Z",
     "start_time": "2024-12-08T21:07:25.928626Z"
    }
   },
   "cell_type": "code",
   "source": "",
   "outputs": [],
   "execution_count": null
  },
  {
   "metadata": {},
   "cell_type": "code",
   "outputs": [],
   "execution_count": null,
   "source": ""
  }
 ],
 "metadata": {
  "kernelspec": {
   "display_name": "Python 3 (ipykernel)",
   "language": "python",
   "name": "python3"
  },
  "language_info": {
   "codemirror_mode": {
    "name": "ipython",
    "version": 3
   },
   "file_extension": ".py",
   "mimetype": "text/x-python",
   "name": "python",
   "nbconvert_exporter": "python",
   "pygments_lexer": "ipython3",
   "version": "3.11.4"
  }
 },
 "nbformat": 4,
 "nbformat_minor": 4
}
